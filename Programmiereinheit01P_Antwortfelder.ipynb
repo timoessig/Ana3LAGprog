{
  "nbformat": 4,
  "nbformat_minor": 0,
  "metadata": {
    "colab": {
      "provenance": [],
      "authorship_tag": "ABX9TyN7ZSyUd/LCKtsY4sSpzeQr",
      "include_colab_link": true
    },
    "kernelspec": {
      "name": "python3",
      "display_name": "Python 3"
    },
    "language_info": {
      "name": "python"
    }
  },
  "cells": [
    {
      "cell_type": "markdown",
      "metadata": {
        "id": "view-in-github",
        "colab_type": "text"
      },
      "source": [
        "<a href=\"https://colab.research.google.com/github/timoessig/Ana3LAGprog/blob/main/Programmiereinheit01P_Antwortfelder.ipynb\" target=\"_parent\"><img src=\"https://colab.research.google.com/assets/colab-badge.svg\" alt=\"Open In Colab\"/></a>"
      ]
    },
    {
      "cell_type": "markdown",
      "source": [
        "# Aufgabenfelder zum Präsenzteil von Programmiereinheit 01\n",
        "\n",
        "Dieses Notebook dient dazu, dass Sie Ihre Lösungen der Aufgaben möglichst übersichtlich aufschreiben können.\n",
        "\n",
        "### Programmieraufgabe 1.1\n",
        "a) Bestimmen Sie die Länge von P.\n",
        "\n",
        "b) Entfernen Sie die letzten beiden Einträge aus P auf zwei verschiedene Arten.\n",
        "\n",
        "c) Erstellen Sie eine neue Liste E mit den in b) entfernten Einträgen aus P und führen Sie beide Listen so zusammen, dass Sie die ursprüngliche Liste P erhalten.\n",
        "\n",
        "d) Geben Sie die Teilliste von P aus, die alle Primzahlen $> 100$ enthält."
      ],
      "metadata": {
        "id": "EbNvfaxNgkqS"
      }
    },
    {
      "cell_type": "code",
      "source": [
        "# Antwortfeld zu P1.1 Teil a)"
      ],
      "metadata": {
        "id": "IGQQbu2shE25"
      },
      "execution_count": null,
      "outputs": []
    },
    {
      "cell_type": "code",
      "source": [
        "# Antwordfeldzu P1.1 Teil b)"
      ],
      "metadata": {
        "id": "e-UG5FUNhGvg"
      },
      "execution_count": null,
      "outputs": []
    },
    {
      "cell_type": "code",
      "source": [
        "# Antwortfeld zu P1.1 Teil c)"
      ],
      "metadata": {
        "id": "ABbHNJ4khJGu"
      },
      "execution_count": null,
      "outputs": []
    },
    {
      "cell_type": "code",
      "source": [
        "# Antwortfeld zu P1.1 Teil d)"
      ],
      "metadata": {
        "id": "pSFJKcqlhKxo"
      },
      "execution_count": null,
      "outputs": []
    },
    {
      "cell_type": "markdown",
      "source": [
        "### Programmieraufgabe 1.2\n",
        "a) Geben Sie eine Lösung von Aufgabe 1.1 d), die eine Schleife und eine if-Abfrage verwendet.\n",
        "\n",
        "b) Definieren Sie eine Funktion <code>divP(n)</code>, welche als return <code>True</code> ausgibt, falls $n$ durch eine Zahl aus $P$ teilbar ist und ansonsten <code>False</code>.\n",
        "*Hinweis*: $n$ ist genau dann durch $m$ teilbar, falls <code> n % m == 0</code>. Dabei ist <code> n % m</code> der Rest beim Teilen von $n$ durch $m$ und das doppelte Gleichheitszeichen muss man immer benutzen, wenn man eine Gleichheit als Bedingung möchte.\n",
        "\n",
        "c) Ist $k=109559$ eine Primzahl? Hinweis: Da $331^2 = 109561$.\n",
        "\n",
        "d) Welches ist die kleinste Primzahl, die nicht in $P$ enthalten ist?"
      ],
      "metadata": {
        "id": "qPLQaAw0hSEb"
      }
    },
    {
      "cell_type": "code",
      "source": [
        "# Antwortfeld zu P1.2 Teil a)"
      ],
      "metadata": {
        "id": "-M4HF5YWhTlJ"
      },
      "execution_count": null,
      "outputs": []
    },
    {
      "cell_type": "code",
      "source": [
        "# Antwordfeldzu P1.2 Teil b)\n",
        "def divP(n):"
      ],
      "metadata": {
        "id": "ptND5og0hTx7"
      },
      "execution_count": null,
      "outputs": []
    },
    {
      "cell_type": "code",
      "source": [
        "# Antwortfeld zu P1.2 Teil c)"
      ],
      "metadata": {
        "id": "oBmZr4pWhT8p"
      },
      "execution_count": null,
      "outputs": []
    },
    {
      "cell_type": "code",
      "source": [
        "# Antwortfeld zu P1.2 Teil d)"
      ],
      "metadata": {
        "id": "chneS4jIhUGP"
      },
      "execution_count": null,
      "outputs": []
    },
    {
      "cell_type": "markdown",
      "source": [
        "### Programmieraufgabe 1.3\n",
        "Programmieren Sie eine Funktion <code>sumMP(a,b,n)</code>, die für ein gegebenes Intervall $[a,b]$ und eine gegebene natürliche Zahl $n$ folgende Summe berechnet: Seien $I_1, \\ldots, I_n$ eine Zerlegung von $[a,b]$ in Teilintervalle gleicher Größe und $x_j \\in I_j$ die Mittelpunkte der Teilintervalle. Dann soll\n",
        "$$ sumMP(a,b,n) = \\sum_{j=1}^n x_j $$"
      ],
      "metadata": {
        "id": "0vKxLBEjhUbX"
      }
    },
    {
      "cell_type": "code",
      "source": [
        "# Antwortfeld P1.3\n",
        "def sumMP(a,b,n):"
      ],
      "metadata": {
        "id": "ajTO6pj8hXEt"
      },
      "execution_count": null,
      "outputs": []
    }
  ]
}