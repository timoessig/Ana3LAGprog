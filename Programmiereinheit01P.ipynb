{
  "nbformat": 4,
  "nbformat_minor": 0,
  "metadata": {
    "colab": {
      "provenance": [],
      "authorship_tag": "ABX9TyN/qu6H9LXi6HxfX9Co5tZe",
      "include_colab_link": true
    },
    "kernelspec": {
      "name": "python3",
      "display_name": "Python 3"
    },
    "language_info": {
      "name": "python"
    }
  },
  "cells": [
    {
      "cell_type": "markdown",
      "metadata": {
        "id": "view-in-github",
        "colab_type": "text"
      },
      "source": [
        "<a href=\"https://colab.research.google.com/github/timoessig/Ana3LAGprog/blob/main/Programmiereinheit01P.ipynb\" target=\"_parent\"><img src=\"https://colab.research.google.com/assets/colab-badge.svg\" alt=\"Open In Colab\"/></a>"
      ]
    },
    {
      "cell_type": "markdown",
      "source": [
        "\n",
        "# Programmiereinheit 01 - Präsenzteil\n",
        "**Lernziele:**\n",
        "1.   Umgang mit Listen, Schleifen und Funktionen lernen\n",
        "2.   Integral $\\int_0^\\pi \\sin(x) dx$ durch Riemann-Summe und Trapezregel approximieren.\n",
        "3. Ergebnisse mit <code>mathplotlib</code> graphisch veranschaulichen.\n",
        "\n",
        "### 01.01 Einführung ins Programmieren mit Python\n",
        "Unser Zugang zu Python ist ergebnisorientiert. Wir wollen in dieser Einheit vor allem lernen, mit Listen umzugehen, geeignete Listen zu erzeugen und diese zu manipulieren. Danach üben wir noch, eine erste <code>for</code>-Schleife zu erstellen.\n",
        "\n",
        "Programmiert man in Python, gilt es zunächst alle sog. Bibliotheken zu laden, die man für die eigenen Zwecke benötigt. Für uns werden das vor allem die folgenden beiden sein:\n",
        "*   <code>numpy</code> - die Standardbibliothek, wenn man numerische Mathematik betreiben möchte. Sie liefert zum Beispiel alle Standardfunktionen mit ($\\exp$ als <code>numpy.exp</code> oder $\\sin$ als <code>numpy.sin</code>)\n",
        "*   <code>mathplotlib.pyplot</code> - wie der Name vermuten lässt, lassen sich mit dieser Bibliothek Funktionsgraphen u.ä. erstellen.\n",
        "\n",
        "\n",
        "\n"
      ],
      "metadata": {
        "id": "CJLWXNdJkvee"
      }
    },
    {
      "cell_type": "code",
      "source": [
        "#Wir laden also zuerst die beiden Bibliotheken\n",
        "import numpy as np\n",
        "import matplotlib.pyplot as plt"
      ],
      "metadata": {
        "id": "UjWhKRfOpXKI"
      },
      "execution_count": 6,
      "outputs": []
    },
    {
      "cell_type": "markdown",
      "source": [
        "Sie erhalten im folgenden eine Liste, nämlich die Liste aller Primzahlen $< 333$.\n",
        "Listen in Python können alle möglichen Objekte enthalten, nicht nur Zahlen. Für uns sind vor allem Listen von Zahlen (sowohl ganze als auch Dezimalzahlen) und später auch Vektoren von Bedeutung.\n",
        "\n",
        "Die Liste bezeichnen wir mit P für Primzahlen. Wenn man möchte, dass Python eine Ausgabe zeigt (zum Beispiel die Liste P selbst) gibt man <code>print(xyz)</code> in das Codefeld ein."
      ],
      "metadata": {
        "id": "_2w_zPHIkwrf"
      }
    },
    {
      "cell_type": "code",
      "source": [
        "P = [2, 3, 5, 7, 11, 13, 17, 19, 23, 29, 31, 37, 41, 43, 47, 53, 59, 61, 67, 71, 73, 79, 83, 89, 97, 101, 103, 107, 109, 113, 127, 131, 137, 139, 149, 151, 157, 163, 167, 173, 179, 181, 191, 193, 197, 199, 211, 223, 227, 229, 233, 239, 241, 251, 257, 263, 269, 271, 277, 281, 283, 293, 307, 311, 313, 317, 331]\n",
        "\n",
        "print(P)\n"
      ],
      "metadata": {
        "colab": {
          "base_uri": "https://localhost:8080/"
        },
        "id": "UpmEth_nuFy5",
        "outputId": "cab049e5-6e3c-4007-9e9b-b3438523781f"
      },
      "execution_count": 9,
      "outputs": [
        {
          "output_type": "stream",
          "name": "stdout",
          "text": [
            "[2, 3, 5, 7, 11, 13, 17, 19, 23, 29, 31, 37, 41, 43, 47, 53, 59, 61, 67, 71, 73, 79, 83, 89, 97, 101, 103, 107, 109, 113, 127, 131, 137, 139, 149, 151, 157, 163, 167, 173, 179, 181, 191, 193, 197, 199, 211, 223, 227, 229, 233, 239, 241, 251, 257, 263, 269, 271, 277, 281, 283, 293, 307, 311, 313, 317, 331]\n"
          ]
        }
      ]
    },
    {
      "cell_type": "markdown",
      "source": [
        "**Standardoperationen für Liste L**\n",
        "1.   **Länge der Liste**: <code>len(L)</code>\n",
        "2.   **Ein bestimmtes Element der Liste**: <code>L[k]</code> ist das $(k+1)$-te Element der Liste. <code>L[0]</code> ist folglich das erste Element der Liste. Spezialfall: <code>L[-1]</code> ist das letzte Element der Liste.\n",
        "3.   **Position eines bestimmten Elements**: Ist x in L enthalten, so bestimmt <code>L.index(x)</code> die Position, an der x (zum ersten Mal) steht. Achtung: Ist der Index $k$, so bedeutet dies, dass x das $(k+1)$-te Element von L ist.\n",
        "4.   **Elemente entfernen**: <code>L.remove(x)</code> entfernt das erste $x$ aus der Liste. <code>L.pop(k)</code> entfernt das $(k+1)$-te Element der Liste. Die veränderte Liste heißt wieder L.\n",
        "5.   **Elemente hinzufügen**: <code>L.append(x)</code> fügt der Liste am Ende das Element $x$ hinzu. <code>L.insert(x,k)</code> fügt x als $(k+1)$-tes Element ein und verschiebt alle folgenden Elemente um eine Position nach hinten. Die veränderte Liste heißt wieder L.\n",
        "6. **Teillisten ausgeben**: <code>L[k:]</code> besteht aus allen Elementen von L ab dem $(k+1)$-ten. <code>L[:k]</code> nimmt alle Elemente bis zum $k$-ten Element (inklusive). Spezialfall: <code>L[:-1]</code> enthält alle bis auf das letzte Element von L.\n",
        "7. **Listen zusammenführen**: Ist A eine weitere Liste, so fügt <code>L.extend(A)</code> A hinten an L an.\n",
        "\n",
        "### Programmieraufgabe 1.1\n",
        "a) Bestimmen Sie die Länge von P.\n",
        "\n",
        "b) Entfernen Sie die letzten beiden Einträge aus P auf zwei verschiedene Arten.\n",
        "\n",
        "c) Erstellen Sie eine neue Liste E mit den in b) entfernten Einträgen aus P und führen Sie beide Listen so zusammen, dass Sie die ursprüngliche Liste P erhalten.\n",
        "\n",
        "d) Geben Sie die Teilliste von P aus, die alle Primzahlen $> 100$ enthält.\n",
        "\n",
        "**Listen erzeugen**\n",
        "\n",
        "Später wollen wir das Integral einer Funktion $f:[a,b] \\to \\mathbb{R}$ numerisch approximieren. Dazu unterteilen wir das Intervall $[a,b]$ in Teilabschnitte. Die Bibliothek <code>numpy</code> gibt uns zwei Möglichkeiten, wie wir $[a,b]$ unterteilen können. Die Teilpunkte werden jeweils in eine Liste gespeichert. Als Beispiel wollen wir $[1,5]$ in $7$ Teilintervalle unterteilen.\n",
        "\n",
        "\n",
        "\n"
      ],
      "metadata": {
        "id": "27JfVbQyvkAE"
      }
    },
    {
      "cell_type": "code",
      "source": [
        "# Define the interval [1, 5] and divide it into 7 parts\n",
        "interval = np.linspace(1, 5, 8)\n",
        "\n",
        "# Plotting the interval\n",
        "plt.figure(figsize=(8, 1))\n",
        "plt.hlines(1, 1, 5, color='blue', lw=2)  # horizontal line representing the interval\n",
        "plt.scatter(interval, [1]*8, color='blue', zorder=5)  # points dividing the interval\n",
        "\n",
        "# Aesthetics\n",
        "plt.yticks([])\n",
        "plt.xticks(interval)\n",
        "plt.xlim(0.9, 5.1)\n",
        "plt.show()"
      ],
      "metadata": {
        "colab": {
          "base_uri": "https://localhost:8080/",
          "height": 137
        },
        "id": "16-X0vAwdhK0",
        "outputId": "3993cfda-3869-42fb-da7e-052b530e0c7e"
      },
      "execution_count": 9,
      "outputs": [
        {
          "output_type": "display_data",
          "data": {
            "text/plain": [
              "<Figure size 800x100 with 1 Axes>"
            ],
            "image/png": "[encoded data removed]"
          },
          "metadata": {}
        }
      ]
    },
    {
      "cell_type": "markdown",
      "source": [
        "1.   <code>np.linspace(1,5,7)</code>: Dieser Befehl erzeugt eine Liste mit acht Einträgen $a = x_0 < x_1 \\approx 1.57 < \\ldots < x_6 \\approx 4.43 < x_7 = 5.$ Die zugehörigen Teilintervalle sind von der Form $[x_i,x_{i+1}]$."
      ],
      "metadata": {
        "id": "K2NYEaXZdhX5"
      }
    },
    {
      "cell_type": "code",
      "source": [
        "print(np.linspace(1,5,8))"
      ],
      "metadata": {
        "colab": {
          "base_uri": "https://localhost:8080/"
        },
        "id": "pkJyhwlSaLqd",
        "outputId": "a162c0f6-a8f2-4030-9e03-16883f53e65c"
      },
      "execution_count": 3,
      "outputs": [
        {
          "output_type": "stream",
          "name": "stdout",
          "text": [
            "[1.         1.57142857 2.14285714 2.71428571 3.28571429 3.85714286\n",
            " 4.42857143 5.        ]\n"
          ]
        }
      ]
    },
    {
      "cell_type": "markdown",
      "source": [
        "\n",
        "2.   <code>np.arrange</code>: Die Schrittweite zwischen den $x_i$ der Unterteilung ist gegeben durch $\\Delta x = \\frac{5-1}{7}.$ <code>np.arrange(1,5,4/7) </code> erzeugt eine Liste mit den gleichen Einträgen $a = x_0, \\ldots x_6$ wie oben. Der Endpunkt $b=5% ist hier nicht enthalten. Soll er dabei sein, kann man z.B. <code>np.arrange(1,5+4/7,4/7) </code> benutzen."
      ],
      "metadata": {
        "id": "pnTu8kmsaMPC"
      }
    },
    {
      "cell_type": "code",
      "source": [
        "Delta_x = (5-1)/7\n",
        "print(np.arange(1,5,Delta_x))\n",
        "print(np.arange(1,5+Delta_x,Delta_x))"
      ],
      "metadata": {
        "colab": {
          "base_uri": "https://localhost:8080/"
        },
        "id": "3H3ewPuoaMsA",
        "outputId": "0938a3d7-330c-49a8-e765-9f10207d745d"
      },
      "execution_count": 4,
      "outputs": [
        {
          "output_type": "stream",
          "name": "stdout",
          "text": [
            "[1.         1.57142857 2.14285714 2.71428571 3.28571429 3.85714286\n",
            " 4.42857143]\n",
            "[1.         1.57142857 2.14285714 2.71428571 3.28571429 3.85714286\n",
            " 4.42857143 5.        ]\n"
          ]
        }
      ]
    },
    {
      "cell_type": "markdown",
      "source": [
        "Bevor wir die Erzeugung von Listen mit diesen Befehlen einüben, gehen wir noch auf <code>for</code>- und <code>while</code>-Schleifen, <code>if</code>-Abfragen und einfache Funktionen ein. Diese ermöglichen uns eine Vielzahl von Konstruktionen. Hier einige Beispiele:\n",
        "1.   Liste der $1/n$ für $n < 10$."
      ],
      "metadata": {
        "id": "pQHSDn0AeTuo"
      }
    },
    {
      "cell_type": "code",
      "source": [
        "#Wir starten mit einer leeren Liste L\n",
        "L = []\n",
        "# Für alle n von 1 bis 9, wollen wir 1/n zur Liste hinzufügen\n",
        "for n in range(1,10):\n",
        "  L.append(1/n)\n",
        "# am Schluss geben wir die Liste aus\n",
        "print(L)\n",
        "# Achten Sie auf die Syntax, vor allem den Doppelpunkt und die Einrückung. Probieren Sie aus, was sich ändert, wenn Sie \"print(L)\" auch einrücken"
      ],
      "metadata": {
        "colab": {
          "base_uri": "https://localhost:8080/"
        },
        "id": "Ze1GZ8COffg6",
        "outputId": "12876286-e4af-4fb2-a9b1-0efd2ecf3341"
      },
      "execution_count": 13,
      "outputs": [
        {
          "output_type": "stream",
          "name": "stdout",
          "text": [
            "[1.0, 0.5, 0.3333333333333333, 0.25, 0.2, 0.16666666666666666, 0.14285714285714285, 0.125, 0.1111111111111111]\n"
          ]
        }
      ]
    },
    {
      "cell_type": "markdown",
      "source": [
        "Die gleiche Aufgabe lässt sich auch mit einer <code>while</code>-Schleife lösen, auch wenn dies ein wenig schwieriger ist.\n",
        "Die Idee: Wir durchlaufen nacheinander alle $n < 10,$ startend bei $n = 1.$ Solange $n < 10$ ist, fügen wir $1/n$ zur Liste K hinzu und erhöhen danach den Wert von $n$ um eins. Die <code>while</code>-Schleife funktioniert so, dass sie nach Erhöhen von $n$ automatisch von vorn beginnt und zwar so lange, wie die Bedingung erfüllt ist."
      ],
      "metadata": {
        "id": "Gzi9UfKz3uSI"
      }
    },
    {
      "cell_type": "code",
      "source": [
        "K = []\n",
        "n = 1\n",
        "while n < 10:\n",
        "  K.append(1/n)\n",
        "  n = n+1\n",
        "print(K)"
      ],
      "metadata": {
        "colab": {
          "base_uri": "https://localhost:8080/"
        },
        "id": "PbmGeOrv4etv",
        "outputId": "6315c1f6-7733-41c5-b98d-83d63d1fb672"
      },
      "execution_count": 1,
      "outputs": [
        {
          "output_type": "stream",
          "name": "stdout",
          "text": [
            "[1.0, 0.5, 0.3333333333333333, 0.25, 0.2, 0.16666666666666666, 0.14285714285714285, 0.125, 0.1111111111111111]\n"
          ]
        }
      ]
    },
    {
      "cell_type": "markdown",
      "source": [
        "Oftmals lassen sich beide Arten von Schleifen nutzen um ein Problem zu lösen. Beide Typen haben individuelle Vor- und Nachteile."
      ],
      "metadata": {
        "id": "RxhPJuyq56JT"
      }
    },
    {
      "cell_type": "markdown",
      "source": [
        "2. Summe der Zahlen $1/n$ für $n < 10$, einmal mit <code>for</code>, einmal mit <code>while</code>"
      ],
      "metadata": {
        "id": "lXj0F8klgSUE"
      }
    },
    {
      "cell_type": "code",
      "source": [
        "# S soll am Schluss die Summe sein\n",
        "# Dazu starten wir mit S = 0 und addieren mit einer for-Schleife die einzelnen Summanden hinzu\n",
        "S = 0\n",
        "for n in range(1,10):\n",
        "  S = S + 1/n\n",
        "# Achtung: Diese Schreibweise mag für Mathematiker*innen ungewohnt sein. Gemeint ist: \"Überschreibe S mit (dem alten) S + 1/n\"\n",
        "# alternative Schreibweise S += 1/n\n",
        "# am Schluss geben wir die Summe aus\n",
        "print(S)\n",
        "# Prüfen Sie das Ergebnis"
      ],
      "metadata": {
        "colab": {
          "base_uri": "https://localhost:8080/"
        },
        "id": "-OOD1fCTfQtw",
        "outputId": "0c09d56c-8a2f-4dfe-e187-5b8d8526abe9"
      },
      "execution_count": 16,
      "outputs": [
        {
          "output_type": "stream",
          "name": "stdout",
          "text": [
            "2.8289682539682537\n"
          ]
        }
      ]
    },
    {
      "cell_type": "code",
      "source": [
        "# gleiches Problem mit einer while-Schleife gelöst\n",
        "S = 0\n",
        "n=1\n",
        "while n<10:\n",
        "  S = S + 1/n\n",
        "  n = n+1\n",
        "print(S)"
      ],
      "metadata": {
        "colab": {
          "base_uri": "https://localhost:8080/"
        },
        "id": "Ni9Yon7T6Wmn",
        "outputId": "b5398652-d244-46ef-a8ef-738311bc6a25"
      },
      "execution_count": 3,
      "outputs": [
        {
          "output_type": "stream",
          "name": "stdout",
          "text": [
            "2.8289682539682537\n"
          ]
        }
      ]
    },
    {
      "cell_type": "markdown",
      "source": [
        "*Zusatz:* Summen lassen sich in Python auch anders bestimmen. Wollen wir alle Elemente einer gegebenen Liste L addieren, können wir einfach <code>np.sum(L)</code> ausgeben lassen. Für die gesuchte Summe müssen wir also die Elemente der Listen aus der vorigen Teilaufgabe summieren."
      ],
      "metadata": {
        "id": "hyd9sbHS6miH"
      }
    },
    {
      "cell_type": "code",
      "source": [
        "print(np.sum(K))"
      ],
      "metadata": {
        "colab": {
          "base_uri": "https://localhost:8080/"
        },
        "id": "JuIHLF2B7GIz",
        "outputId": "2a1b00d8-bbb7-4a29-e67d-be8f874714f7"
      },
      "execution_count": 8,
      "outputs": [
        {
          "output_type": "stream",
          "name": "stdout",
          "text": [
            "2.8289682539682537\n"
          ]
        }
      ]
    },
    {
      "cell_type": "markdown",
      "source": [
        "3. If Abfrage zu größer und kleiner: Wir wollen testen ob eine Zahl größer als eine andere Zahl ist oder nicht. Wir probieren das für die Zahlen $5$ und $3$ - wir wissen natürlich, dass $5 > 3$ ist, aber weiß der Computer das auch?\n"
      ],
      "metadata": {
        "id": "BuNSp_ndhA0T"
      }
    },
    {
      "cell_type": "code",
      "source": [
        "if 5 > 3:\n",
        "    print(f\"{5} ist größer als {3}\")\n",
        "else:\n",
        "    print(f\"{5} ist nicht größer als {3}\")"
      ],
      "metadata": {
        "colab": {
          "base_uri": "https://localhost:8080/"
        },
        "id": "uR-xnsIShjMo",
        "outputId": "19e858c5-91db-4659-c0c6-e173334d5a3c"
      },
      "execution_count": 1,
      "outputs": [
        {
          "output_type": "stream",
          "name": "stdout",
          "text": [
            "5 ist größer als 3\n"
          ]
        }
      ]
    },
    {
      "cell_type": "markdown",
      "source": [
        "Sehr gut! Nun wollen wir das gleiche für andere Zahlen prüfen. Dazu definieren wir eine Funktion. Eine Funktion bekommt meist einen oder mehrere Inputs, hier sind es ganze Zahlen a und b und liefert am Ende mittels <code>return</code> eine Ausgabe.\n",
        "\n",
        "Oft will man mit der Ausgabe weiter arbeiten, deshalb ist es essentiell <code>return</code> und eben nicht <code>print</code> zu verwenden."
      ],
      "metadata": {
        "id": "uGQmrfZNUsM4"
      }
    },
    {
      "cell_type": "code",
      "source": [
        "def gr(a,b):\n",
        "    if a > b:\n",
        "        return f\"{a} ist größer als {b}\"\n",
        "    else:\n",
        "        return f\"{a} ist nicht größer als {b}\""
      ],
      "metadata": {
        "id": "uIvgwSeVU9hq"
      },
      "execution_count": 2,
      "outputs": []
    },
    {
      "cell_type": "markdown",
      "source": [
        "Wenn Sie das Feld ausführen, scheint nichts zu passieren - doch der Schein trügt. Wir haben eine Funktion definiert, die wir ab sofort jeder Zeit aufrufen können. Wählen wir $a$ und $b$ und schreiben <code>gr(a,b)</code>, so erhalten wir eine der beiden Ausgaben. Wir wählen zum Beispiel $a=11$ und $b=7$ und tauschen danach die Rollen von $a$ und $b$."
      ],
      "metadata": {
        "id": "ubIyZ1lZVIft"
      }
    },
    {
      "cell_type": "code",
      "source": [
        "gr(11,7)"
      ],
      "metadata": {
        "colab": {
          "base_uri": "https://localhost:8080/",
          "height": 35
        },
        "id": "J3Ja249dWQ6E",
        "outputId": "adc06f36-2e42-48bb-a947-3c6e1e8f0a1f"
      },
      "execution_count": 3,
      "outputs": [
        {
          "output_type": "execute_result",
          "data": {
            "text/plain": [
              "'11 ist größer als 7'"
            ],
            "application/vnd.google.colaboratory.intrinsic+json": {
              "type": "string"
            }
          },
          "metadata": {},
          "execution_count": 3
        }
      ]
    },
    {
      "cell_type": "code",
      "source": [
        "gr(7,11)"
      ],
      "metadata": {
        "colab": {
          "base_uri": "https://localhost:8080/",
          "height": 35
        },
        "id": "xJaz95i_WdtA",
        "outputId": "cdbc0694-32a5-4f45-8484-d97079875625"
      },
      "execution_count": 4,
      "outputs": [
        {
          "output_type": "execute_result",
          "data": {
            "text/plain": [
              "'7 ist nicht größer als 11'"
            ],
            "application/vnd.google.colaboratory.intrinsic+json": {
              "type": "string"
            }
          },
          "metadata": {},
          "execution_count": 4
        }
      ]
    },
    {
      "cell_type": "markdown",
      "source": [
        "### Programmieraufgabe 1.2\n",
        "a) Geben Sie eine Lösung von Aufgabe 1.1 d), die eine Schleife und eine if-Abfrage verwendet.\n",
        "\n",
        "b) Definieren Sie eine Funktion <code>divP(n)</code>, welche als return <code>True</code> ausgibt, falls $n$ durch eine Zahl aus $P$ teilbar ist und ansonsten <code>False</code>.\n",
        "*Hinweis*: $n$ ist genau dann durch $m$ teilbar, falls <code> n % m == 0</code>. Dabei ist <code> n % m</code> der Rest beim Teilen von $n$ durch $m$ und das doppelte Gleichheitszeichen muss man immer benutzen, wenn man eine Gleichheit als Bedingung möchte.\n",
        "\n",
        "c) Ist $k=109559$ eine Primzahl? Hinweis: Da $331^2 = 109561$.\n",
        "\n",
        "d) Welches ist die kleinste Primzahl, die nicht in $P$ enthalten ist?\n",
        "\n",
        "### Programmieraufgabe 1.3\n",
        "Programmieren Sie eine Funktion <code>sumMP(a,b,n)</code>, die für ein gegebenes Intervall $[a,b]$ und eine gegebene natürliche Zahl $n$ folgende Summe berechnet: Seien $I_1, \\ldots, I_n$ eine Zerlegung von $[a,b]$ in Teilintervalle gleicher Größe und $x_j \\in I_j$ die Mittelpunkte der Teilintervalle. Dann soll\n",
        "$$ sumMP(a,b,n) = \\sum_{j=1}^n x_j $$"
      ],
      "metadata": {
        "id": "8a74MRrFWu7j"
      }
    }
  ]
}