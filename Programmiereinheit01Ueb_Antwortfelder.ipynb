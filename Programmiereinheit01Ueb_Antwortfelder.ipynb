{
  "nbformat": 4,
  "nbformat_minor": 0,
  "metadata": {
    "colab": {
      "provenance": []
    },
    "kernelspec": {
      "name": "python3",
      "display_name": "Python 3"
    },
    "language_info": {
      "name": "python"
    }
  },
  "cells": [
    {
      "cell_type": "code",
      "execution_count": 2,
      "metadata": {
        "id": "a_alRsdmiDuH"
      },
      "outputs": [],
      "source": [
        "import numpy as np"
      ]
    },
    {
      "cell_type": "markdown",
      "source": [
        "# Aufgabenfelder zum Präsenzteil von Programmiereinheit 01\n",
        "\n",
        "Dieses Notebook dient dazu, dass Sie Ihre Lösungen der Aufgaben möglichst übersichtlich aufschreiben können.\n",
        "\n",
        "### Programmieraufgabe 1.4\n",
        "Alle Funktionen in dieser Teilaufgabe sollen stetig und auf dem Intervall $[a,b]$ definiert sein. In Teil a) und b) arbeiten wir mit äquidistanten Stützstellen.\n",
        "\n",
        "a) Programmieren Sie eine Funktion <code>mittRiem(f,a,b,n)</code>, welche  das Integral $\\int_a^b f(x) dx$ mittels Riemannscher Mittelpunktsregel mit $n$ Treppen approximiert. Ganz präzise soll mittRiem(f,a,b,n) folgende Summe berechnen:\n",
        "$$ \\sum_{k=1}^n \\frac{b-a}{n} \\cdot f \\left( \\frac{x_k + x_{k+1}}{2} \\right) $$\n",
        "\n",
        "b) Programmieren Sie eine Funktion <code>Trapez(f,a,b,n),</code> welche als ausgabe die Trapezregel $A_{n,1}(f)$ aus Bemerkung 10.4 als Ausgabe hat.\n",
        "\n",
        "c) Wie ändern Sie den Code aus b), wenn Sie eine Unterteilung von $[a,b]$ als Liste\n",
        "`L = [x_0=a, x_1, ..., x_n=b]` vorgeben wollen, anhand derer das Intervall unterteilt wird?\n",
        "Programmieren Sie eine entsprechende Funktion <code>Trapez(f,L)</code>.\n",
        "*Bemerkung:* Diese Unterteilung muss dann nicht äquidistant sein."
      ],
      "metadata": {
        "id": "oUozt-_RiHUb"
      }
    },
    {
      "cell_type": "code",
      "source": [
        "# Antwortfeld zu P1.4 Teil a)"
      ],
      "metadata": {
        "id": "Vk-zQO6WiRM9"
      },
      "execution_count": 36,
      "outputs": []
    },
    {
      "cell_type": "code",
      "source": [
        "# Antwortfeld zu P1.4 Teil b)\n"
      ],
      "metadata": {
        "id": "KTjeEpskiUbb"
      },
      "execution_count": 37,
      "outputs": []
    },
    {
      "cell_type": "code",
      "source": [
        "# Antwortfeld zu P1.4 Teil c)\n"
      ],
      "metadata": {
        "id": "BsY04vAB08Jb"
      },
      "execution_count": 39,
      "outputs": []
    },
    {
      "cell_type": "markdown",
      "source": [
        "### Programmieraufgabe 1.5\n",
        "a) Programmieren Sie eine Funktion <code>MinZertTrapez(e)</code> die f\\\"ur jedes vorgegebene $e>0$ das minimale $n\\in\\mathbb{N}$ bestimmt, sodass f\\\"ur $f=\\sin: [0,\\pi] \\to \\mathbb{R}$ gilt:\n",
        "$$ \\left | \\int_0^\\pi \\sin (x) dx - A_{n,1}(\\sin) \\right | < e $$\n",
        "\n",
        "b) Für welchen Wert von $e$ ist der Fehler für alle $n\\leq 1000$ größer als $e$?"
      ],
      "metadata": {
        "id": "JCdG2kRv24XN"
      }
    },
    {
      "cell_type": "code",
      "source": [
        "# Antwortfeld zu P1.5 Teil a)\n"
      ],
      "metadata": {
        "id": "Yr7yCRS9iazn"
      },
      "execution_count": 40,
      "outputs": []
    },
    {
      "cell_type": "code",
      "source": [
        "# Antwortfeld zu P1.5 Teil b)\n"
      ],
      "metadata": {
        "id": "mcQM2Mm6ia7G"
      },
      "execution_count": 41,
      "outputs": []
    },
    {
      "cell_type": "markdown",
      "source": [
        "Hinter [diesem Link](https://www.openstreetmap.org/relation/968220#map=15/54.34167/10.12279) finden Sie den Kieler Stadtteil Ravensberg - der Stadtteil der Universität.\n",
        "\n",
        "### Programmieraufgabe 1.6\n",
        "Bestimmen Sie die Größe von Ravensberg.\n",
        "\n",
        "***\n",
        "\n",
        "Dazu finden Sie im Ordner \"Koordinaten\" die Koordinaten von Randpunkten von Ravensberg in einer geeigneten Karte (die Einheit ist Meter). `allcoordinates.txt` enthält alle Koordinaten, `pointsover.txt` und `pointsunder.txt` enthalten jeweils die Koordinaten mit einem $y$-Wert von größer bzw. kleiner gleich 525.668 (das ist der $y$-Wert des Punktes mit dem kleinsten $x$-Wert). Dabei sind die Liste so geordnet, dass man auf der Randkurve vom ersten Punkt an nach links losläuft.\n",
        "\n",
        "Sie können wir folgt vorgehen: Mit der gewählten Aufteilung zerfällt die Randkurve (zumindest beinahe) in zwei Funktionsgraphen. bestimmen Sie die Flächeninhalte zwischen der Geraden $y = 525.668$ und den Graphen mit der Trapezregel und damit approximativ die Fläche von Ravensberg. Wie gut ist Ihr Ergebnis?\n",
        "\n",
        "Nachfolgend noch die Listen `pointsover` sowie `pointsunder` sowie deren Plot auf der Karte."
      ],
      "metadata": {
        "id": "jwW1Id-srRAJ"
      }
    },
    {
      "cell_type": "code",
      "source": [
        "# Randpunkt über der Geraden\n",
        "with open('./Koordinaten/pointsover.txt', 'r') as file:\n",
        "    content = file.read()\n",
        "    pointsover = eval(content)\n",
        "# Randpunkt unter der Geraden\n",
        "with open('./Koordinaten/pointsunder.txt', 'r') as file:\n",
        "    content = file.read()\n",
        "    pointsunder = eval(content)"
      ],
      "metadata": {
        "colab": {
          "base_uri": "https://localhost:8080/",
          "height": 211
        },
        "id": "FYjVptSJumOu",
        "outputId": "1026393f-141d-423c-cddc-7e3436edab3f"
      },
      "execution_count": 26,
      "outputs": [
        {
          "output_type": "error",
          "ename": "FileNotFoundError",
          "evalue": "[Errno 2] No such file or directory: './Koordinaten/pointsover.txt'",
          "traceback": [
            "\u001b[0;31m---------------------------------------------------------------------------\u001b[0m",
            "\u001b[0;31mFileNotFoundError\u001b[0m                         Traceback (most recent call last)",
            "\u001b[0;32m<ipython-input-26-418a260418df>\u001b[0m in \u001b[0;36m<cell line: 2>\u001b[0;34m()\u001b[0m\n\u001b[1;32m      1\u001b[0m \u001b[0;31m# Randpunkt über der Geraden\u001b[0m\u001b[0;34m\u001b[0m\u001b[0;34m\u001b[0m\u001b[0m\n\u001b[0;32m----> 2\u001b[0;31m \u001b[0;32mwith\u001b[0m \u001b[0mopen\u001b[0m\u001b[0;34m(\u001b[0m\u001b[0;34m'./Koordinaten/pointsover.txt'\u001b[0m\u001b[0;34m,\u001b[0m \u001b[0;34m'r'\u001b[0m\u001b[0;34m)\u001b[0m \u001b[0;32mas\u001b[0m \u001b[0mfile\u001b[0m\u001b[0;34m:\u001b[0m\u001b[0;34m\u001b[0m\u001b[0;34m\u001b[0m\u001b[0m\n\u001b[0m\u001b[1;32m      3\u001b[0m     \u001b[0mcontent\u001b[0m \u001b[0;34m=\u001b[0m \u001b[0mfile\u001b[0m\u001b[0;34m.\u001b[0m\u001b[0mread\u001b[0m\u001b[0;34m(\u001b[0m\u001b[0;34m)\u001b[0m\u001b[0;34m\u001b[0m\u001b[0;34m\u001b[0m\u001b[0m\n\u001b[1;32m      4\u001b[0m     \u001b[0mpointsover\u001b[0m \u001b[0;34m=\u001b[0m \u001b[0meval\u001b[0m\u001b[0;34m(\u001b[0m\u001b[0mcontent\u001b[0m\u001b[0;34m)\u001b[0m\u001b[0;34m\u001b[0m\u001b[0;34m\u001b[0m\u001b[0m\n\u001b[1;32m      5\u001b[0m \u001b[0;31m# Randpunkt unter der Geraden\u001b[0m\u001b[0;34m\u001b[0m\u001b[0;34m\u001b[0m\u001b[0m\n",
            "\u001b[0;31mFileNotFoundError\u001b[0m: [Errno 2] No such file or directory: './Koordinaten/pointsover.txt'"
          ]
        }
      ]
    },
    {
      "cell_type": "code",
      "source": [
        "import matplotlib.pyplot as plt\n",
        "# Extract x and y values\n",
        "x_low = [coord[0] for coord in pointsunder]\n",
        "y_low = [coord[1] for coord in pointsunder]\n",
        "\n",
        "x_high = [coord[0] for coord in pointsover]\n",
        "y_high = [coord[1] for coord in pointsover]\n",
        "\n",
        "y_line = pointsunder[0][1]\n",
        "\n",
        "\n",
        "# Create a 2D plot\n",
        "plt.axhline(y=y_line, color='b', linestyle='--', label=f'Aufschneidelinie')\n",
        "plt.plot(x_low, y_low, marker='o', linestyle='-', color='r')\n",
        "plt.plot(x_high, y_high, marker='o', linestyle='-', color='c')\n",
        "\n",
        "# Ensure the plot has equal scaling for x and y axes\n",
        "plt.gca().set_aspect('equal', adjustable='datalim')\n",
        "\n",
        "# Add labels and title\n",
        "plt.xlabel('X-Werte')\n",
        "plt.ylabel('Y-Werte')\n",
        "plt.title('Randkurve von Ravensberg')\n",
        "plt.legend()"
      ],
      "metadata": {
        "id": "qNPNroHuvinL"
      },
      "execution_count": null,
      "outputs": []
    }
  ]
}