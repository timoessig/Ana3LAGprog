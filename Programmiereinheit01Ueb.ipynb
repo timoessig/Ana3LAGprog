{
  "nbformat": 4,
  "nbformat_minor": 0,
  "metadata": {
    "colab": {
      "provenance": []
    },
    "kernelspec": {
      "name": "python3",
      "display_name": "Python 3"
    },
    "language_info": {
      "name": "python"
    }
  },
  "cells": [
    {
      "cell_type": "code",
      "source": [
        "import numpy as np"
      ],
      "metadata": {
        "id": "h5mjgfc2fz0v"
      },
      "execution_count": 2,
      "outputs": []
    },
    {
      "cell_type": "markdown",
      "source": [
        "**Lernziele:**\n",
        "1.   Implementierung von Mittelpunktregel und Trapezregel zur Approximation von Integralen.\n",
        "2.   Integrale $\\int_1^{100} \\ln(x) dx$ durch Mittelpunktregel und Trapezregel approximieren.\n",
        "3. Ergebnis für $\\int_0^\\pi \\sin(x) dx$ mit dem exakten Ergebnis vergleichen.\n",
        "4. Flächeninhalt von Ravensberg bestimmen.\n",
        "\n",
        "### Programmieraufgabe 1.4\n",
        "Alle Funktionen in dieser Teilaufgabe sollen stetig und auf dem Intervall $[a,b]$ definiert sein.\n",
        "\n",
        "a) Programmieren Sie eine Funktion <code>mittRiem(f,a,b,n)</code>, welche  das Integral $\\int_a^b f(x) dx$ mittels Riemannscher Mittelpunktsregel mit $n$ Treppen approximiert. Ganz präzise soll mittRiem(f,a,b,n) folgende Summe berechnen:\n",
        "$$ \\sum_{k=1}^n \\frac{b-a}{n} \\cdot f \\left( \\frac{x_k + x_{k+1}}{2} \\right) $$\n",
        "\n",
        "b) Programmieren Sie eine Funktion <code>Trapez(f,a,b,n),</code> welche als ausgabe die Trapezregel $A_{n,1}(f)$ aus Bemerkung 10.4 als Ausgabe hat.\n",
        "\n",
        "c) Wie ändern Sie den Code aus b), wenn Sie eine Unterteilung von $[a,b]$ als Liste\n",
        "`L = [x_0=a, x_1, ..., x_n=b]` vorgeben wollen, anhand derer das Intervall unterteilt wird?\n",
        "Programmieren Sie eine entsprechende Funktion <code>Trapez(f,L)</code>.\n",
        "*Bemerkung:* Diese Unterteilung muss dann nicht äquidistant sein."
      ],
      "metadata": {
        "id": "hXI7V1PIIXR2"
      }
    },
    {
      "cell_type": "markdown",
      "source": [
        "### Programmieraufgabe 1.5\n",
        "a) Programmieren Sie eine Funktion <code>MinZertTrapez(e)</code> die f\\\"ur jedes vorgegebene $e>0$ das minimale $n\\in\\mathbb{N}$ bestimmt, sodass f\\\"ur $f=\\sin: [0,\\pi] \\to \\mathbb{R}$ gilt:\n",
        "$$ \\left | \\int_0^\\pi \\sin (x) dx - A_{n,1}(\\sin) \\right | < e $$\n",
        "\n",
        "b) Für welchen Wert von $e$ ist der Fehler für alle $n\\leq 1000$ größer als $e$?\n",
        "\n",
        "***\n",
        "\n",
        "#### Hilfestellung für Studierende mit wenig Programmiererfahrung\n",
        "\n",
        "Als Hilfe zu Aufgabe 3 geben wir hier die Lösung eines ähnlichen Problems.\n",
        "\n",
        "**Hilfsproblem:** Wie bestimmt man algorithmisch die kleinste natürliche Zahl $N \\in \\{1,1000\\}$, für die $\\log(N)> 5$ ist?\n",
        "\n",
        "Wir implementieren dieses Problem wie folgt:\n",
        "* Die Pythonfunktion `np.log` entspricht dem natürlichen Logarithmus.\n",
        "* Wenn $\\log(N) < 5$ für alle gegebenen $N$, wollen wir die Fehlermeldung \"Fehler\" ausgeben. Das setzt man um, indem man anfang `N_min = None` setzt und diesen Wert nur ändert, wenn die Bedingung $\\log(N) > 5$ für ein $N$ erfüllt ist.\n",
        "* Im ersten Ansatz wollen wir mit einer `for`-Schleife arbeiten. Sollen alle $N$ von $1$ bis $1000$ abgedeckt werden, schreibt man `for N in range(1,1001)`\n",
        "* Sobald man ein passendes `N` gefunden hat, brechen wir die Schleife mit `break` ab."
      ],
      "metadata": {
        "id": "Bv5O9VuZ18Lu"
      }
    },
    {
      "cell_type": "code",
      "source": [
        "N_min = None\n",
        "for N in range(1,1001):\n",
        "    if np.log(N) > 5:\n",
        "        N_min = N\n",
        "        break\n",
        "\n",
        "if N_min is not None:\n",
        "    print(N_min, \"ist die kleinste natürliche Zahl mit log(N)>5\")\n",
        "else:\n",
        "    print(\"Für kein N<1001 ist log(N)>5.\")"
      ],
      "metadata": {
        "colab": {
          "base_uri": "https://localhost:8080/"
        },
        "id": "Sk_KX86GfwiM",
        "outputId": "8cccc340-4529-4056-a01c-f376b109c125"
      },
      "execution_count": 3,
      "outputs": [
        {
          "output_type": "stream",
          "name": "stdout",
          "text": [
            "149 ist die kleinste natürliche Zahl mit log(N)>5\n"
          ]
        }
      ]
    },
    {
      "cell_type": "markdown",
      "source": [
        "*   Jetzt bearbeiten wir das selbe Problem mit Hilfe einer <code>while</code>-Schleife\n",
        "*   Beginnend mit $N=1$ und solange $N < 1001$ ist, erhöhen wir den Wert so lange um jeweils $1$ bis die Bedingung $\\log(N) > 5$ erfüllt ist. Sobald das eintritt, wollen wir wieder die Schleife verlassen\n",
        "* Bemerkung: Hier benötigen wir keine `break`-Bedingung\n",
        "\n"
      ],
      "metadata": {
        "id": "_KOjT-CLf4oW"
      }
    },
    {
      "cell_type": "code",
      "source": [
        "N = 1\n",
        "while N < 1001:\n",
        "    if np.log(N) > 5:\n",
        "      N_min = N\n",
        "      break\n",
        "    else:\n",
        "      N+=1\n",
        "\n",
        "if N_min is not None:\n",
        "    print(N_min, \"ist die kleinste natürliche Zahl mit log(N)>5\")\n",
        "else:\n",
        "    print(\"Für kein N<1001 ist log(N)>5.\")\n"
      ],
      "metadata": {
        "colab": {
          "base_uri": "https://localhost:8080/"
        },
        "id": "ouMPPV0kgwTY",
        "outputId": "664b85e1-4563-4748-832b-8fe1bc3b1fac"
      },
      "execution_count": 5,
      "outputs": [
        {
          "output_type": "stream",
          "name": "stdout",
          "text": [
            "149 ist die kleinste natürliche Zahl mit log(N)>5\n"
          ]
        }
      ]
    },
    {
      "cell_type": "markdown",
      "source": [
        "### Programmieraufgabe 1.6\n",
        "Hinter [diesem Link](https://www.openstreetmap.org/relation/968220#map=15/54.34167/10.12279) finden Sie den Kieler Stadtteil Ravensberg - der Stadtteil der Universität.\n",
        "\n",
        "Bestimmen Sie die Größe von Ravensberg.\n",
        "\n",
        "Dazu finden Sie im Ordner \"Koordinaten\" die Koordinaten von Randpunkten von Ravensberg in einer geeigneten Karte (die Einheit ist Meter). `allcoordinates.txt` enthält alle Koordinaten, `pointsover.txt` und `pointsunder.txt` enthalten jeweils die Koordinaten mit einem $y$-Wert von größer bzw. kleiner gleich 525.668 (das ist der $y$-Wert des Punktes mit dem kleinsten $x$-Wert. Dabei sind die Liste so geordnet, dass man auf der Randkurve vom ersten Punkt an nach links losläuft.\n",
        "\n",
        "Sie können wir folgt vorgehen: Mit der gewählten Aufteilung zerfällt die Randkurve (zumindest beinahe) in zwei Funktionsgraphen. bestimmen Sie die Flächeninhalte zwischen der Geraden $y = 525.668$ und den Graphen mit der Trapezregel und damit approximativ die Fläche von Ravensberg. Wie gut ist Ihr Ergebnis?\n",
        "\n",
        "Nachfolgend noch die Listen `pointsover` sowie `pointsunder` sowie deren Plot auf der Karte."
      ],
      "metadata": {
        "id": "GasyQ9VgvrSz"
      }
    },
    {
      "cell_type": "code",
      "source": [
        "# Randpunkt über der Geraden\n",
        "with open('./Koordinaten/pointsover.txt', 'r') as file:\n",
        "    content = file.read()\n",
        "    pointsover = eval(content)\n",
        "# Randpunkt unter der Geraden\n",
        "with open('./Koordinaten/pointsunder.txt', 'r') as file:\n",
        "    content = file.read()\n",
        "    pointsunder = eval(content)"
      ],
      "metadata": {
        "id": "GlE3_yC3vqBn"
      },
      "execution_count": null,
      "outputs": []
    },
    {
      "cell_type": "code",
      "source": [
        "import matplotlib.pyplot as plt\n",
        "# Extract x and y values\n",
        "x_low = [coord[0] for coord in pointsunder]\n",
        "y_low = [coord[1] for coord in pointsunder]\n",
        "\n",
        "x_high = [coord[0] for coord in pointsover]\n",
        "y_high = [coord[1] for coord in pointsover]\n",
        "\n",
        "y_line = pointsunder[0][1]\n"
      ],
      "metadata": {
        "id": "fb5d3SpNvxc1"
      },
      "execution_count": null,
      "outputs": []
    }
  ]
}